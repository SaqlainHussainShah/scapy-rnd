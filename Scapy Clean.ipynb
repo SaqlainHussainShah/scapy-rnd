{
 "cells": [
  {
   "cell_type": "code",
   "execution_count": 25,
   "metadata": {},
   "outputs": [],
   "source": [
    "file_path = \"/home/ebryx/Downloads/GW_Data/gateway_traffic/gw1/2021-01-15/tcpdump-gat67-15-Jan-2021-10-16-35.pcap\""
   ]
  },
  {
   "cell_type": "code",
   "execution_count": 26,
   "metadata": {},
   "outputs": [],
   "source": [
    "from scapy.all import *"
   ]
  },
  {
   "cell_type": "code",
   "execution_count": 27,
   "metadata": {},
   "outputs": [],
   "source": [
    "packet_data = rdpcap(file_path)"
   ]
  },
  {
   "cell_type": "code",
   "execution_count": 28,
   "metadata": {},
   "outputs": [
    {
     "data": {
      "text/plain": [
       "87108"
      ]
     },
     "execution_count": 28,
     "metadata": {},
     "output_type": "execute_result"
    }
   ],
   "source": [
    "len(packet_data)"
   ]
  },
  {
   "cell_type": "code",
   "execution_count": 39,
   "metadata": {},
   "outputs": [
    {
     "data": {
      "text/plain": [
       "<IP  version=4 ihl=5 tos=0x0 len=857 id=3244 flags=DF frag=0 ttl=128 proto=tcp chksum=0xb569 src=10.0.16.194 dst=10.0.16.200 |<TCP  sport=51456 dport=shell seq=3812139453 ack=1348284227 dataofs=5 reserved=0 flags=PA window=1026 chksum=0xc210 urgptr=0 |<Raw  load='<13>Jan 15 10:18:54 LAP-0138 AgentDevice=WindowsLog\\tAgentLogFile=Security\\tPluginVersion=7.2.9.105\\tSource=Microsoft-Windows-Security-Auditing\\tComputer=Lap-0138.ebryx.com\\tOriginatingComputer=192.168.10.12\\tUser=\\tDomain=\\tEventID=4673\\tEventIDCode=4673\\tEventType=16\\tEventCategory=13056\\tRecordNumber=15704870\\tTimeGenerated=1610687933\\tTimeWritten=1610687933\\tLevel=Log Always\\tKeywords=Audit Failure\\tTask=SE_ADT_PRIVILEGEUSE_SENSITIVE\\tOpcode=Info\\tMessage=A privileged service was called.  Subject:  Security ID:  ebryx\\\\noman.khan  Account Name:  noman.khan  Account Domain:  ebryx  Logon ID:  0xC8E42  Service:  Server: Security  Service Name: -  Process:  Process ID: 0xd9c  Process Name: C:\\\\Program Files (x86)\\\\Microsoft\\\\Skype for Desktop\\\\Skype.exe  Service Request Information:  Privileges:  SeProfileSingleProcessPrivilege\\n' |>>>"
      ]
     },
     "execution_count": 39,
     "metadata": {},
     "output_type": "execute_result"
    }
   ],
   "source": [
    "packet_data[0]"
   ]
  },
  {
   "cell_type": "code",
   "execution_count": 38,
   "metadata": {},
   "outputs": [
    {
     "data": {
      "text/plain": [
       "6"
      ]
     },
     "execution_count": 38,
     "metadata": {},
     "output_type": "execute_result"
    }
   ],
   "source": [
    "packet_data[0].proto"
   ]
  },
  {
   "cell_type": "code",
   "execution_count": 40,
   "metadata": {},
   "outputs": [
    {
     "data": {
      "text/plain": [
       "<Flag 2 (DF)>"
      ]
     },
     "execution_count": 40,
     "metadata": {},
     "output_type": "execute_result"
    }
   ],
   "source": [
    "packet_data[0].flags"
   ]
  },
  {
   "cell_type": "code",
   "execution_count": 47,
   "metadata": {},
   "outputs": [
    {
     "data": {
      "text/plain": [
       "<TCP  sport=51456 dport=shell seq=3812139453 ack=1348284227 dataofs=5 reserved=0 flags=PA window=1026 chksum=0xc210 urgptr=0 |<Raw  load='<13>Jan 15 10:18:54 LAP-0138 AgentDevice=WindowsLog\\tAgentLogFile=Security\\tPluginVersion=7.2.9.105\\tSource=Microsoft-Windows-Security-Auditing\\tComputer=Lap-0138.ebryx.com\\tOriginatingComputer=192.168.10.12\\tUser=\\tDomain=\\tEventID=4673\\tEventIDCode=4673\\tEventType=16\\tEventCategory=13056\\tRecordNumber=15704870\\tTimeGenerated=1610687933\\tTimeWritten=1610687933\\tLevel=Log Always\\tKeywords=Audit Failure\\tTask=SE_ADT_PRIVILEGEUSE_SENSITIVE\\tOpcode=Info\\tMessage=A privileged service was called.  Subject:  Security ID:  ebryx\\\\noman.khan  Account Name:  noman.khan  Account Domain:  ebryx  Logon ID:  0xC8E42  Service:  Server: Security  Service Name: -  Process:  Process ID: 0xd9c  Process Name: C:\\\\Program Files (x86)\\\\Microsoft\\\\Skype for Desktop\\\\Skype.exe  Service Request Information:  Privileges:  SeProfileSingleProcessPrivilege\\n' |>>"
      ]
     },
     "execution_count": 47,
     "metadata": {},
     "output_type": "execute_result"
    }
   ],
   "source": [
    "packet_data[0]['TCP']"
   ]
  },
  {
   "cell_type": "code",
   "execution_count": 46,
   "metadata": {},
   "outputs": [
    {
     "data": {
      "text/plain": [
       "<Flag 24 (PA)>"
      ]
     },
     "execution_count": 46,
     "metadata": {},
     "output_type": "execute_result"
    }
   ],
   "source": [
    "packet_data[0]['TCP'].flags"
   ]
  },
  {
   "cell_type": "code",
   "execution_count": 52,
   "metadata": {},
   "outputs": [],
   "source": [
    "\n",
    "\n",
    "def make_dictionary(current_packet):\n",
    "    try:\n",
    "        dict_packet={      \n",
    "          'ip_version'               :     packet['IP'].version,\n",
    "          'ip_id'                    :     packet['IP'].id,\n",
    "          'ip_protocol'              :     packet['IP'].proto,\n",
    "          'destination_ip'           :     packet['IP'].dst,\n",
    "          'source_ip'                :     packet['IP'].src,\n",
    "\n",
    "          'tcp_source_port'          :     packet['TCP'].sport,\n",
    "          'tcp_destination_port'     :     packet['TCP'].dport,\n",
    "          'tcp_sequence'             :     packet['TCP'].seq,\n",
    "          'tcp_acknowledgement'      :     packet['TCP'].ack,\n",
    "          'tcp_data_offset'          :     packet['TCP'].dataofs,\n",
    "          'tcp_reserved'             :     packet['TCP'].reserved,\n",
    "          'tcp_flags'                :     packet['TCP'].flags,\n",
    "          'tcp_window'               :     packet['TCP'].window,\n",
    "          'tcp_checksum'             :     packet['TCP'].chksum,\n",
    "          'tcp_urgent_pointer'       :     packet['TCP'].urgptr,\n",
    "          'tcp_options'              :     packet['TCP'].options,\n",
    "\n",
    "\n",
    "      }\n",
    "        return dict_packet\n",
    "    except:\n",
    "        pass\n",
    "    return 0\n",
    "    \n",
    "\n"
   ]
  },
  {
   "cell_type": "code",
   "execution_count": 53,
   "metadata": {},
   "outputs": [],
   "source": [
    "list_packets=[]\n",
    "for packet in packet_data:\n",
    "    list_packets.append(make_dictionary(packet))"
   ]
  },
  {
   "cell_type": "code",
   "execution_count": 55,
   "metadata": {},
   "outputs": [
    {
     "data": {
      "text/plain": [
       "{'ip_version': 4,\n",
       " 'ip_id': 3244,\n",
       " 'ip_protocol': 6,\n",
       " 'destination_ip': '10.0.16.200',\n",
       " 'source_ip': '10.0.16.194',\n",
       " 'tcp_source_port': 51456,\n",
       " 'tcp_destination_port': 514,\n",
       " 'tcp_sequence': 3812139453,\n",
       " 'tcp_acknowledgement': 1348284227,\n",
       " 'tcp_data_offset': 5,\n",
       " 'tcp_reserved': 0,\n",
       " 'tcp_flags': <Flag 24 (PA)>,\n",
       " 'tcp_window': 1026,\n",
       " 'tcp_checksum': 49680,\n",
       " 'tcp_urgent_pointer': 0,\n",
       " 'tcp_options': []}"
      ]
     },
     "execution_count": 55,
     "metadata": {},
     "output_type": "execute_result"
    }
   ],
   "source": [
    "list_packets[0]"
   ]
  },
  {
   "cell_type": "code",
   "execution_count": null,
   "metadata": {},
   "outputs": [],
   "source": []
  }
 ],
 "metadata": {
  "kernelspec": {
   "display_name": "Python 3",
   "language": "python",
   "name": "python3"
  },
  "language_info": {
   "codemirror_mode": {
    "name": "ipython",
    "version": 3
   },
   "file_extension": ".py",
   "mimetype": "text/x-python",
   "name": "python",
   "nbconvert_exporter": "python",
   "pygments_lexer": "ipython3",
   "version": "3.7.6"
  }
 },
 "nbformat": 4,
 "nbformat_minor": 4
}
