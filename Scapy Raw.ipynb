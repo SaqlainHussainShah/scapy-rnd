{
 "cells": [
  {
   "cell_type": "code",
   "execution_count": 6,
   "metadata": {},
   "outputs": [],
   "source": [
    "file_path = \"/home/ebryx/Downloads/GW_Data/gateway_traffic/gw2/2021-01-14/tcpdump-gat15-14-Jan-2021-12-18-05.pcap\""
   ]
  },
  {
   "cell_type": "code",
   "execution_count": 16,
   "metadata": {},
   "outputs": [],
   "source": [
    "from scapy.all import *"
   ]
  },
  {
   "cell_type": "code",
   "execution_count": 23,
   "metadata": {},
   "outputs": [],
   "source": [
    "# Shows number of packets in pcap\n",
    "from scapy.utils import RawPcapReader\n",
    "\n",
    "def process_pcap(file_name):\n",
    "    print('Opening {}...'.format(file_name))\n",
    "    \n",
    "    packet_data = []\n",
    "    count = 0\n",
    "    for (pkt_data, pkt_metadata,) in RawPcapReader(file_name):\n",
    "        count += 1\n",
    "        packet_data.append(pkt_data)\n",
    "\n",
    "    print('{} contains {} packets'.format(file_name, count))\n",
    "    return packet_data"
   ]
  },
  {
   "cell_type": "code",
   "execution_count": 24,
   "metadata": {},
   "outputs": [
    {
     "name": "stdout",
     "output_type": "stream",
     "text": [
      "Opening /home/ebryx/Downloads/GW_Data/gateway_traffic/gw2/2021-01-14/tcpdump-gat15-14-Jan-2021-12-18-05.pcap...\n",
      "/home/ebryx/Downloads/GW_Data/gateway_traffic/gw2/2021-01-14/tcpdump-gat15-14-Jan-2021-12-18-05.pcap contains 14035 packets\n"
     ]
    }
   ],
   "source": [
    "packet_data = process_pcap(file_path)"
   ]
  },
  {
   "cell_type": "code",
   "execution_count": 25,
   "metadata": {},
   "outputs": [
    {
     "data": {
      "text/plain": [
       "14035"
      ]
     },
     "execution_count": 25,
     "metadata": {},
     "output_type": "execute_result"
    }
   ],
   "source": [
    "len(packet_data)"
   ]
  },
  {
   "cell_type": "code",
   "execution_count": 28,
   "metadata": {},
   "outputs": [
    {
     "name": "stdout",
     "output_type": "stream",
     "text": [
      "b'`\\x00\\x00\\x00\\x00\\x08:\\xff\\xfe\\x80\\x00\\x00\\x00\\x00\\x00\\x00\\xe5\\x1f\\xfav\\xae\\xa7B\\x85\\xff\\x02\\x00\\x00\\x00\\x00\\x00\\x00\\x00\\x00\\x00\\x00\\x00\\x00\\x00\\x02\\x85\\x00\\xacs\\x00\\x00\\x00\\x00'\n"
     ]
    }
   ],
   "source": [
    "print(packet_data[0])"
   ]
  },
  {
   "cell_type": "code",
   "execution_count": 32,
   "metadata": {},
   "outputs": [],
   "source": [
    "i = 0\n",
    "packets = []\n",
    "for iterate in range(len(packet_data)):\n",
    "    if (i%1000 != 0):\n",
    "        packets.append(packet_data[i])\n",
    "        i += 1\n",
    "\n",
    "    else:\n",
    "        if i <= 1000:\n",
    "            wrpcap('filtered.pcap', packets, append=False)  \n",
    "            i += 1\n",
    "        elif i > 1000:\n",
    "            wrpcap(\"filtered2.pcap\", packets[-1200:], append=False)\n",
    "            i += 1"
   ]
  },
  {
   "cell_type": "code",
   "execution_count": null,
   "metadata": {},
   "outputs": [],
   "source": []
  }
 ],
 "metadata": {
  "kernelspec": {
   "display_name": "Python 3",
   "language": "python",
   "name": "python3"
  },
  "language_info": {
   "codemirror_mode": {
    "name": "ipython",
    "version": 3
   },
   "file_extension": ".py",
   "mimetype": "text/x-python",
   "name": "python",
   "nbconvert_exporter": "python",
   "pygments_lexer": "ipython3",
   "version": "3.7.6"
  }
 },
 "nbformat": 4,
 "nbformat_minor": 4
}
